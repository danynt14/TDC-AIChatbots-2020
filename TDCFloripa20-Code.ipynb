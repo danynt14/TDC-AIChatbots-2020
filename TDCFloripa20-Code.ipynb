{
 "cells": [
  {
   "cell_type": "code",
   "execution_count": null,
   "metadata": {},
   "outputs": [],
   "source": [
    "print('Vamos Iniciar Galera?')"
   ]
  },
  {
   "cell_type": "code",
   "execution_count": null,
   "metadata": {},
   "outputs": [],
   "source": [
    "'''\n",
    "No apresentação eu esqueci de importar essas bibliotecas \n",
    "\n",
    "Elas são Responsáveis por enviar elementos gráficos para o telespectador da conversa\n",
    "\n",
    "\n",
    "- Bria um menu embutido a caixa de texto para enviar mensagens\n",
    "from telepot.namedtuple import ReplyKeyboardMarkup, KeyboardButton \n",
    "\n",
    "- Botão embutido na  Mensagem\n",
    "from telepot.namedtuple import InlineKeyboardMarkup, InlineKeyboardButton\n",
    "\n",
    "\n",
    "-BotFather\n",
    "\n",
    "É um bot embutido no Telegram para criar seus chatbots a API do TELEGRAM\n",
    "    - Para Criar vá até /newsbot e siga as instruções através da Interação\n",
    "\n",
    "A documentação é Proderosissíma\n",
    "https://telepot.readthedocs.io/en/latest/#id11\n",
    "''' \n",
    "\n",
    "\n",
    "import telepot\n",
    "from telepot.namedtuple import ReplyKeyboardMarkup, KeyboardButton \n",
    "from telepot.namedtuple import InlineKeyboardMarkup, InlineKeyboardButton\n",
    "\n",
    "TOKEN = 'Seu Token gerado no BotFather'\n",
    "ID_RECEPTOR_QUE_VAI_RECEBER_MENSAGEM = 39473487 # Inteiro genérico\n",
    "\n",
    "\n",
    "''' Instância o Bot na sua aplicação'''\n",
    "bot = telepot.Bot(TOKEN)\n",
    "\n",
    "''' Obtem  todos as requisições vindas de usuários'''\n",
    "response = bot.getUpdates()\n",
    "\n",
    "\n",
    "\n",
    "print(response)"
   ]
  },
  {
   "cell_type": "code",
   "execution_count": null,
   "metadata": {},
   "outputs": [],
   "source": [
    "'''Cria um Botão embutido na caixa de envio de mensagens do telegram '''\n",
    "keyboard = ReplyKeyboardMarkup(keyboard=[['Add', 'List'], ['Settings', 'Web']])\n",
    "\n",
    "'''sendMessage(id_receptor_mensagem, texto, Opcional-Widgets para interação com o Chatbot/Botões) '''\n",
    "bot.sendMessage(ID_RECEPTOR_QUE_VAI_RECEBER_MENSAGEM, 'Some text ...', reply_markup=keyboard)"
   ]
  },
  {
   "cell_type": "code",
   "execution_count": null,
   "metadata": {},
   "outputs": [],
   "source": [
    "\n",
    "'''Cria um botão embutido na mensagem que o bot vai enviar para o cliente receptor no telegram '''\n",
    "keyboard = InlineKeyboardMarkup(inline_keyboard=[[InlineKeyboardButton(text='Press me', callback_data='press')],])\n",
    "\n",
    "\n",
    "bot.sendMessage(ID_RECEPTOR_QUE_VAI_RECEBER_MENSAGEM, 'Use inline keyboard', reply_markup=keyboard)\n"
   ]
  },
  {
   "cell_type": "code",
   "execution_count": null,
   "metadata": {},
   "outputs": [],
   "source": []
  }
 ],
 "metadata": {
  "kernelspec": {
   "display_name": "Python 3",
   "language": "python",
   "name": "python3"
  },
  "language_info": {
   "codemirror_mode": {
    "name": "ipython",
    "version": 3
   },
   "file_extension": ".py",
   "mimetype": "text/x-python",
   "name": "python",
   "nbconvert_exporter": "python",
   "pygments_lexer": "ipython3",
   "version": "3.8.2"
  }
 },
 "nbformat": 4,
 "nbformat_minor": 4
}
